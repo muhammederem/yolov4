{
 "cells": [
  {
   "cell_type": "code",
   "execution_count": 6,
   "metadata": {},
   "outputs": [],
   "source": [
    "from tensorflow.keras.preprocessing.image import ImageDataGenerator, img_to_array,load_img"
   ]
  },
  {
   "cell_type": "code",
   "execution_count": 16,
   "metadata": {},
   "outputs": [],
   "source": [
    "datagen= ImageDataGenerator(rotation_range=15,\n",
    "                            width_shift_range=0.2,\n",
    "                            height_shift_range=0.2,\n",
    "                            shear_range=0.2,\n",
    "                            zoom_range=0.2,\n",
    "                            fill_mode=\"nearest\"\n",
    "                            )"
   ]
  },
  {
   "cell_type": "code",
   "execution_count": 17,
   "metadata": {},
   "outputs": [],
   "source": [
    "import os"
   ]
  },
  {
   "cell_type": "code",
   "execution_count": 24,
   "metadata": {},
   "outputs": [],
   "source": [
    "images = []\n",
    "folder = \"C:\\\\Users\\\\faruk\\\\Documents\\\\ASTRID\\\\Yolov4\\\\yesil\\\\\"\n",
    "for filename in os.listdir(folder):\n",
    "        img = load_img(os.path.join(folder,filename))\n",
    "        \n",
    "        x= img_to_array(img)\n",
    "        x=x.reshape((1,)+x.shape)\n",
    "        i=0\n",
    "        for batch in datagen.flow(x,batch_size=1,\n",
    "                                save_to_dir='C:\\\\Users\\\\faruk\\\\Documents\\\\ASTRID\\\\Yolov4\\\\yesil_',\n",
    "                                save_format='jpeg'):\n",
    "            i+=1\n",
    "            if i>15:\n",
    "                break"
   ]
  },
  {
   "cell_type": "code",
   "execution_count": null,
   "metadata": {},
   "outputs": [],
   "source": []
  }
 ],
 "metadata": {
  "interpreter": {
   "hash": "28d6092104dd4a3cc7b8e72f79ae591ec3dab5272bcdda3a9d21ecacdac96651"
  },
  "kernelspec": {
   "display_name": "Python 3.7.0 64-bit",
   "language": "python",
   "name": "python3"
  },
  "language_info": {
   "codemirror_mode": {
    "name": "ipython",
    "version": 3
   },
   "file_extension": ".py",
   "mimetype": "text/x-python",
   "name": "python",
   "nbconvert_exporter": "python",
   "pygments_lexer": "ipython3",
   "version": "3.7.0"
  },
  "orig_nbformat": 4
 },
 "nbformat": 4,
 "nbformat_minor": 2
}
